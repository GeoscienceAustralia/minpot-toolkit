{
 "cells": [
  {
   "cell_type": "markdown",
   "id": "b5ce77d9",
   "metadata": {},
   "source": [
    "# Sediment-hosted base metals and lithospheric thickness\n",
    "\n",
    "This minpot-toolkit example Notebook emulates the research of [Hoggard et al. (2020)](https://doi.org/10.1038/s41561-020-0593-2) and [Czarnota et al. (2021)](http://dx.doi.org/10.11636/134991) to statistically test the spatial association between cratonic edges and sediment-hosted base metal mineral systems, and then apply this relationship to infer maps of mineral prospectivity.\n",
    "\n",
    "First, we import key modules, setup the working directory, and download the casestudy datasets."
   ]
  },
  {
   "cell_type": "code",
   "execution_count": null,
   "id": "587e7937",
   "metadata": {},
   "outputs": [],
   "source": [
    "# =============================================================================\n",
    "# PLEASE UPDATE THE PATHS BELOW\n",
    "# =============================================================================\n",
    "toolkit_directory = r'path_to/minpot-toolkit'\n",
    "working_directory = r'.'\n",
    "cartopy_directory = r'path_to/cartopy'\n",
    "\n",
    "# If uncertain on the Cartopy installation directory, uncomment and run the \n",
    "# following commands for a list of locations to search:\n",
    "#import site\n",
    "#site.getsitepackages()\n",
    "\n",
    "# ============================================================================="
   ]
  },
  {
   "cell_type": "code",
   "execution_count": null,
   "id": "692233aa",
   "metadata": {},
   "outputs": [],
   "source": [
    "# Setup the working directory\n",
    "from matplotlib import pyplot as plt\n",
    "import requests\n",
    "import tarfile\n",
    "import os\n",
    "import sys\n",
    "import rasterio\n",
    "from rasterio.plot import show\n",
    "import pandas\n",
    "import cartopy.crs as ccrs\n",
    "\n",
    "sys.path.append(toolkit_directory)\n",
    "os.chdir(working_directory)\n",
    "\n",
    "# Make a dedicated folder for the example and step into it\n",
    "example_path = 'LAB_example'\n",
    "if not os.path.exists(example_path):\n",
    "    os.mkdir('LAB_example')\n",
    "os.chdir('LAB_example')\n",
    "if not os.path.exists('outputs'):os.mkdir('outputs')\n",
    "if not os.path.exists('data'):os.mkdir('data')"
   ]
  },
  {
   "cell_type": "code",
   "execution_count": null,
   "id": "3922290b",
   "metadata": {},
   "outputs": [],
   "source": [
    "# Download example data from Hoggard et al. (2020): https://doi.org/10.1038/s41561-020-0593-2\n",
    "os.chdir('data')\n",
    "# Lithospheric thickness tarball\n",
    "r = requests.get(r'https://static-content.springer.com/esm/art%3A10.1038%2Fs41561-020-0593-2/MediaObjects/41561_2020_593_MOESM2_ESM.gz')\n",
    "with open('41561_2020_593_MOESM2_ESM.gz', 'wb') as f:\n",
    "    f.write(r.content)\n",
    "with tarfile.open('41561_2020_593_MOESM2_ESM.gz') as f:\n",
    "    f.extractall('.')\n",
    "r.close()\n",
    "del r\n",
    "# Deposit Excel file\n",
    "r = requests.get(r'https://static-content.springer.com/esm/art%3A10.1038%2Fs41561-020-0593-2/MediaObjects/41561_2020_593_MOESM3_ESM.xls')\n",
    "with open('41561_2020_593_MOESM3_ESM.xls', 'wb') as f:\n",
    "    f.write(r.content)\n",
    "r.close()\n",
    "del r\n",
    "\n",
    "os.chdir('..')"
   ]
  },
  {
   "cell_type": "markdown",
   "id": "ef91ae7d",
   "metadata": {},
   "source": [
    "## Tomographic models of lithospheric thickness\n",
    "\n",
    "To begin, update the variable $i$ to select a model of lithospheric thickness. The underlying seismic tomographic models are listed below. The default selection is a local tomographic model of Australia; this smaller model ensures that the Notebook runs quickly, but the trade-off is that there will be fewer deposits for statistical analysis within the study domain."
   ]
  },
  {
   "cell_type": "code",
   "execution_count": null,
   "id": "94bf10a1",
   "metadata": {},
   "outputs": [],
   "source": [
    "i = 3\n",
    "tomo_models = ['3D2015-07Sv', # 0 - Debayle et al.(2016)\n",
    "               'AuSREM',      # 1 - Kennett et al. (2013)\n",
    "               'CAM2016',     # 2 - Ho, Priestley & Debayle (2016), Priestley et al.(2018)\n",
    "               'FR12',        # 3 - Fishwick & Rawlinson (2012)\n",
    "               'SL2013sv',    # 4 - Schaeffer & Lebedev (2013)\n",
    "               'SLNAAFSA',    # 5 - Schaeffer & Lebedev (2014), Celli et al. (2020a,b)\n",
    "               'Y14']         # 6 - Yoshizawa (2014)\n",
    "\n",
    "fp = r'data/lithospheric_thickness_maps/%s.tif' % tomo_models[i]"
   ]
  },
  {
   "cell_type": "code",
   "execution_count": null,
   "id": "e6438443",
   "metadata": {},
   "outputs": [],
   "source": [
    "# Plot the selected lithospheric thickness model\n",
    "fig, ax = plt.subplots(figsize=(10, 5))\n",
    "img = rasterio.open(fp)\n",
    "rast = show(img, ax=ax, vmin=50, vmax=250)\n",
    "im   = rast.get_images()[0]\n",
    "plt.xlabel('Longitude')\n",
    "plt.ylabel('Latitude')\n",
    "cbar = plt.colorbar(im, ax=ax)\n",
    "plt.title('Model: %s' % tomo_models[i])\n",
    "cbar.set_label('Thickness (km)')\n",
    "plt.show()"
   ]
  },
  {
   "cell_type": "markdown",
   "id": "4d7c46f1",
   "metadata": {},
   "source": [
    "## Sediment-hosted base metal deposits\n",
    "\n",
    "Now, update the variable $j$ to select a mineral system of interest. Please note that the \"IOCG\" mineral system in this dataset only includes Australian examples."
   ]
  },
  {
   "cell_type": "code",
   "execution_count": null,
   "id": "cb3b7167",
   "metadata": {},
   "outputs": [],
   "source": [
    "j = 0\n",
    "mineral_systems = ['PbZn-CD',     # 0 - Clastic-dominated lead-zinc\n",
    "                   'PbZn-MVT',    # 1 - Mississippi valley type\n",
    "                   'Cu-sed',      # 2 - Sedimentary copper\n",
    "                   'Magmatic Ni', # 3 - Magmatc nickel\n",
    "                   'VMS',         # 4 - Volcanic massive sulphide\n",
    "                   'Cu-por',      # 5 - Copper porphyry\n",
    "                   'IOCG']        # 6 - Iron oxide copper gold\n",
    "\n",
    "deposits = pandas.read_excel('data/41561_2020_593_MOESM3_ESM.xls', sheet_name='%s' % mineral_systems[j])"
   ]
  },
  {
   "cell_type": "code",
   "execution_count": null,
   "id": "68281607",
   "metadata": {},
   "outputs": [],
   "source": [
    "# Plot the deposit compilation over a global basemap\n",
    "fig = plt.figure(figsize=(10, 5))\n",
    "ax = fig.add_subplot(1, 1, 1, projection=ccrs.Robinson())\n",
    "\n",
    "ax.set_global()\n",
    "ax.stock_img()\n",
    "ax.coastlines()\n",
    "\n",
    "# Programmaticly handle inconsistent headers\n",
    "ax.plot(deposits['Lon'+'.'*(j==0)].values,\n",
    "        deposits['Lat'+'.'*(j==0)].values,\n",
    "        '.',\n",
    "        color='r',\n",
    "        transform=ccrs.PlateCarree())\n",
    "\n",
    "plt.title('Global %s deposits' % mineral_systems[j])\n",
    "\n",
    "plt.show()"
   ]
  },
  {
   "cell_type": "markdown",
   "id": "c031a021",
   "metadata": {},
   "source": [
    "## Feature engineering\n",
    "\n",
    "Hoggard et al. (2020) identified a spatial association between a 170 km contour in lithospheric thickness and the global distribution of sediment-hosted base metal mineral deposits. Here we use the minpot-toolkit to engineer such a contour feature from the selected lithospheric thickness tomographic model.\n",
    "\n",
    "The workflow to do this is specified within an XML configuration file, which will be parsed by the minpot-toolkit. The XML file is composed of 5 key nodes:\n",
    "* Commands\n",
    "* Dataset\n",
    "* Models\n",
    "* Features\n",
    "* Statistics\n",
    "\n",
    "In this first example, we will make use of the first four XML nodes."
   ]
  },
  {
   "cell_type": "code",
   "execution_count": null,
   "id": "5f9b02bb",
   "metadata": {},
   "outputs": [],
   "source": [
    "# Programmatically specify the spatial project code, if required.\n",
    "if tomo_models[i] in ['3D2015-07Sv','CAM2016','SL2013sv','SLNAAFSA']:\n",
    "    epsg_string = '\\n            epsg=\"4326\"'\n",
    "else:\n",
    "    epsg_string = ''\n",
    "\n",
    "with open('craton_edges_feats.xml', 'w') as f:\n",
    "    f.write(\"\"\"<config>\"\"\")\n",
    "    f.write(\"\"\"\n",
    "    <commands\n",
    "        generate_output=\"True\"\n",
    "        bgimage=\"\"\n",
    "        model_savefile=\"model_savefile.npy\"\n",
    "        domain_savefile=\"domain_savefile.npy\"\n",
    "        data_savefile=\"data_savefile.npy\"\n",
    "        inside_polygon_file=\"%s/data/shapefiles/gshhs/c/GSHHS_c_L1.shp\"\n",
    "        input_path=\"./data\"\n",
    "        output_path=\"./outputs\"\n",
    "        make_plots=\"False\"\n",
    "        model_from_savefile=\"False\"\n",
    "        model_to_savefile=\"False\"\n",
    "        data_from_savefile=\"False\"\n",
    "        data_to_savefile=\"False\"\n",
    "        cellsize=\"1.0\"\n",
    "        read_columns=\"Deposit, Country, Ore (Mt)\"\n",
    "        point_properties=\"Au\"\n",
    "        bounds=\"-180, 180, -90, 90\"\n",
    "    />\n",
    "\"\"\" % (cartopy_directory))\n",
    "    # Load tomographic model into mineral-potential-toolkit\n",
    "    f.write(\"\"\"\n",
    "    <models\n",
    "        depths=\"0\"\n",
    "        depths_type=\"values\"\n",
    "        >\n",
    "        <model\n",
    "            name=\"%s\"\n",
    "            type=\"depth\"\n",
    "            model_format=\"geotiff\"\n",
    "            model_file_name=\"%s.tif\"\n",
    "            path=\"data/lithospheric_thickness_maps\"%s\n",
    "        />\n",
    "    </models>\n",
    "\"\"\" % (tomo_models[i],tomo_models[i],epsg_string))\n",
    "    # Load deposit information into mineral-potential-toolkit\n",
    "    # NB: Properties can be used to filter subsets from the deposit data, but here we will just use all of the data\n",
    "    f.write(\"\"\"\n",
    "    <dataset>\n",
    "        <deposits\n",
    "            name=\"Hoggard_deposits\"\n",
    "            type=\"%s\"\n",
    "            sheet_name=\"%s\"\n",
    "            lon_col_name=\"Lon%s\"\n",
    "            lat_col_name=\"Lat%s\"\n",
    "            file_name=\"data/41561_2020_593_MOESM3_ESM.xls\"\n",
    "            path=\".\"\n",
    "        />\n",
    "        <property\n",
    "            name=\"prop1\"\n",
    "            description=\"Country, !=, NaN\"\n",
    "        />\n",
    "        <filter\n",
    "            filters=\"prop1\"\n",
    "            condition=\"union\"\n",
    "        />\n",
    "    </dataset>\n",
    "\"\"\" % (mineral_systems[j], mineral_systems[j], '.'*(j==0), '.'*(j==0))) # Programmaticly handle inconsistent headers\n",
    "    # Extract regions from the \"depth\" model that are out-bound from the 170km cratonic margin\n",
    "    f.write(\"\"\"\n",
    "    <features>\n",
    "        <feature name=\"CratonMargin\" model_types=\"depth\"\n",
    "            use_existing_features=\"False\" generate_plots=\"True\">\n",
    "            <criterion\n",
    "                name=\"criterion1\"\n",
    "                model_type=\"depth\"\n",
    "                description=\"Value, less than, 170.0\"\n",
    "            />\n",
    "        </feature>\n",
    "    </features>\n",
    "\"\"\")\n",
    "    f.write(\"\"\"</config>\"\"\")"
   ]
  },
  {
   "cell_type": "markdown",
   "id": "92f1f068",
   "metadata": {},
   "source": [
    "The produced XML configuration file can now be run from the commandline with the following command,\n",
    "\n",
    "```bash\n",
    "python <path>/toolkit/main.py -C <path>/craton_edges_feats.xml\n",
    "```\n",
    "\n",
    "However, within this example Notebook we can run the workflow programmatically."
   ]
  },
  {
   "cell_type": "code",
   "execution_count": null,
   "id": "080582a3",
   "metadata": {
    "scrolled": true
   },
   "outputs": [],
   "source": [
    "# Can be run from the commandline, but here we will call directly\n",
    "from toolkit import main\n",
    "\n",
    "ProblemManager = main.MineralPotential('craton_edges_feats.xml')\n",
    "ProblemManager()"
   ]
  },
  {
   "cell_type": "markdown",
   "id": "d873e75e",
   "metadata": {},
   "source": [
    "The above workflow will save summary results to disk, but let's visualise the results."
   ]
  },
  {
   "cell_type": "code",
   "execution_count": null,
   "id": "f3d113a5",
   "metadata": {},
   "outputs": [],
   "source": [
    "from toolkit.plotting import plot_feature\n",
    "\n",
    "for key in ProblemManager.FeatureManager.feature_dict.keys():\n",
    "    feat = ProblemManager.FeatureManager.feature_dict[key]\n",
    "    plot_feature(feat, ProblemManager.DataManager.points_dict, 170000, \"\", \"\", False)"
   ]
  },
  {
   "cell_type": "markdown",
   "id": "e622e3ad",
   "metadata": {},
   "source": [
    "Here we have demonstrated the ability to engineer specific features from an input model. This enables us to translate arbitrary models into the mappable criteria that might be expected from mineral system conceptual models; i.e. converting an absolute grid of lithospheric thicknesses into a feature denoting cratonic and non-cratonic environments. The 170 km threshold used above corresponds to that adopted by Hoggard et al. (2020), however feel free to play with the XML generation above to test alternate conceptualisations (including using iterative criteria specifications within the 'features' tag).\n",
    "\n",
    "The above XML also highlights a number of features of the minpot-toolkit workflow:\n",
    "* The \"cellsize\" property of the \"commands\" node allows users to modify the resoultion of the output feature grid. This provides a useful tradeoff between speed (for exploring alternate models) and performance (for production runs).\n",
    "* In the \"models\" node we use the \"epsg_string\" variable to overwrite the spatial projection associated with specific lithospheric thickness geotiffs. The minpot_toolkit has been designed to handle simple reprojections and save time data wrangling.\n",
    "* The \"property\" and \"filter\" properties of the \"dataset\" node allow us to quickly examine different subsets with the deposit database. For instance, deposits above a specific grade or tonnage, or to extract a specific mineral system sub-type.\n",
    "\n",
    "In the following section we will investigate the spatial association of this new feature with observed mineralisation."
   ]
  },
  {
   "cell_type": "markdown",
   "id": "c8eb3448",
   "metadata": {},
   "source": [
    "## Testing spatial relationships and prospectivity mapping\n",
    "\n",
    "We have now engineered a feature that we would like to investigate for mineral potential mapping. Depending on your selections, the figure above will likely reveal a visual correlation between a sediment-hosted base metal system and lithospheric thickness. To determine the relevance of this correlation we will need to test is statistically.\n",
    "\n",
    "Now, we amend the XML configuration file to include the 'statistics' node, providing details of the statistical tests that we would like to employ."
   ]
  },
  {
   "cell_type": "code",
   "execution_count": null,
   "id": "69c9e5ac",
   "metadata": {},
   "outputs": [],
   "source": [
    "# Programmatically specify the spatial project code, if required.\n",
    "if tomo_models[i] in ['3D2015-07Sv','CAM2016','SL2013sv','SLNAAFSA']:\n",
    "    epsg_string = '\\n        epsg=\"4326\"\\n'\n",
    "else:\n",
    "    epsg_string = ''\n",
    "\n",
    "with open('craton_edges_stats.xml', 'w') as f:\n",
    "    f.write(\"\"\"<config>\"\"\")\n",
    "    f.write(\"\"\"\n",
    "    <commands\n",
    "        generate_output=\"True\"\n",
    "        bgimage=\"\"\n",
    "        model_savefile=\"model_savefile.npy\"\n",
    "        domain_savefile=\"domain_savefile.npy\"\n",
    "        data_savefile=\"data_savefile.npy\"\n",
    "        inside_polygon_file=\"%s/data/shapefiles/gshhs/c/GSHHS_c_L1.shp\"\n",
    "        input_path=\"data\"\n",
    "        output_path=\"outputs\"\n",
    "        make_plots=\"False\"\n",
    "        model_from_savefile=\"False\"\n",
    "        model_to_savefile=\"False\"\n",
    "        data_from_savefile=\"False\"\n",
    "        data_to_savefile=\"False\"\n",
    "        cellsize=\"1.0\"\n",
    "        read_columns=\"Deposit, Country, Ore (Mt)\"\n",
    "        point_properties=\"Au\"\n",
    "        bounds=\"-180, 180, -90, 90\"\n",
    "    />\n",
    "\"\"\" % (cartopy_directory))\n",
    "    # Load tomographic model into mineral-potential-toolkit\n",
    "    f.write(\"\"\"\n",
    "    <models\n",
    "        depths=\"0\"\n",
    "        depths_type=\"values\"\n",
    "        >\n",
    "        <model\n",
    "            name=\"%s\"\n",
    "            type=\"depth\"\n",
    "            model_format=\"geotiff\"\n",
    "            model_file_name=\"%s.tif\"\n",
    "            path=\"data/lithospheric_thickness_maps\"%s\n",
    "        />\n",
    "    </models>\n",
    "\"\"\" % (tomo_models[i],tomo_models[i],epsg_string))\n",
    "    # Load deposit information into mineral-potential-toolkit\n",
    "    # NB: Properties can be used to filter subsets from the deposit data, but here we will just use all of the data\n",
    "    f.write(\"\"\"\n",
    "    <dataset>\n",
    "        <deposits\n",
    "            name=\"Hoggard_deposits\"\n",
    "            type=\"%s\"\n",
    "            sheet_name=\"%s\"\n",
    "            lon_col_name=\"Lon%s\"\n",
    "            lat_col_name=\"Lat%s\"\n",
    "            file_name=\"data/41561_2020_593_MOESM3_ESM.xls\"\n",
    "            path=\".\"\n",
    "        />\n",
    "        <property\n",
    "            name=\"prop1\"\n",
    "            description=\"Country, !=, NaN\"\n",
    "        />\n",
    "        <filter\n",
    "            filters=\"prop1\"\n",
    "            condition=\"union\"\n",
    "        />\n",
    "    </dataset>\n",
    "\"\"\" % (mineral_systems[j], mineral_systems[j], '.'*(j==0), '.'*(j==0))) # Programmaticly handle inconsistent headers\n",
    "    # Extract regions from the \"depth\" model that are out-bound from the 170km cratonic margin\n",
    "    f.write(\"\"\"\n",
    "    <features>\n",
    "        <feature name=\"CratonMargin\" model_types=\"depth\"\n",
    "            use_existing_features=\"False\" generate_plots=\"False\">\n",
    "            <criterion\n",
    "                name=\"criterion1\"\n",
    "                model_type=\"depth\"\n",
    "                description=\"Value, less than, 170.0\"\n",
    "            />\n",
    "        </feature>\n",
    "    </features>\n",
    "\"\"\")\n",
    "    # Run statistical tests to test associations between features and deposits\n",
    "    f.write(\"\"\"\n",
    "    <statistics>\n",
    "        <statsnode\n",
    "            name=\"test1\"\n",
    "            test=\"Kolmogorov-Smirnov p test\"\n",
    "            feature=\"CratonMargin\"\n",
    "            correlation=\"Positive\"\n",
    "            binsize=\"2000\"\n",
    "            n_repeats=\"10\"\n",
    "            depths_type=\"values\"\n",
    "            depths=\"0\"\n",
    "            pros_map=\"True\"\n",
    "        />\n",
    "    </statistics>\n",
    "\"\"\")\n",
    "    f.write(\"\"\"</config>\"\"\")"
   ]
  },
  {
   "cell_type": "markdown",
   "id": "03b2c520",
   "metadata": {},
   "source": [
    "In this example we invoke the 2-sample Kolmogorov-Smirnov (K-S) test. The K-S statistic measures the likelihood that the observed sample of mineral deposit locations (scored according to their spatial association with the \"CratonMargin\" feature) could have been drawn from the sample population as the simulated random points (i.e. the null hypothesis - no spatial association). The smaller the K-S statistic, the more likely that such a hypothesis can be rejected and that the feature we have engineered can assist in predicting mineralization.\n",
    "\n",
    "Also note some of the settings in the \"statistics\" node above. In particular, the \"n_repeats\" and \"binsize\" can be adjusted to trade-off speed and performance.\n",
    "\n",
    "Now, we re-run the minpot-toolkit with reference to the new XML file."
   ]
  },
  {
   "cell_type": "code",
   "execution_count": null,
   "id": "d5b3b402",
   "metadata": {},
   "outputs": [],
   "source": [
    "ProblemManager = main.MineralPotential('craton_edges_stats.xml')\n",
    "ProblemManager()"
   ]
  },
  {
   "cell_type": "markdown",
   "id": "b55c845e",
   "metadata": {},
   "source": [
    "The above workflow will save summary results to disk, but let's visualise the results. First, start with the random points that are compared to mineral deposit locations. These will be distibuted uniformly across the valid domain area. Note here that 'uniform' is to be interpreted with reference to the spherical surface of Earth; different 2D map projections may warp the apparent density of random points, especially with changing latitude.\n",
    "\n",
    "It is also worth noting that the 'valid domain area' mentioned above is defined by the union our generated feature and the \"inside_polygon_file\" property of the \"commands\" node. Here, we have pointed the minpot-toolkit to a shapefile of the continents; as such random points will not be generated in the oceans."
   ]
  },
  {
   "cell_type": "code",
   "execution_count": null,
   "id": "7be76b91",
   "metadata": {},
   "outputs": [],
   "source": [
    "# Plot the random locations over a global basemap\n",
    "fig = plt.figure(figsize=(10, 5))\n",
    "ax = fig.add_subplot(1, 1, 1, projection=ccrs.Robinson())\n",
    "\n",
    "ax.set_global()\n",
    "ax.stock_img()\n",
    "ax.coastlines()\n",
    "\n",
    "# Currently the random locations used in analysis are not stored, but we can emulate\n",
    "keys = list(ProblemManager.StatsManager.stat_obj_dict.keys())\n",
    "pts_samples = ProblemManager.RPManager.seed_random_points(n_repeats=ProblemManager.StatsManager.stat_obj_dict[keys[0]].n_repeats)\n",
    "\n",
    "# Iterate over each random locations sample\n",
    "for pts in pts_samples:\n",
    "    ax.plot(pts.T[0],\n",
    "            pts.T[1],\n",
    "            '.',\n",
    "            transform=ccrs.PlateCarree())\n",
    "\n",
    "plt.title('Example random locations')\n",
    "\n",
    "plt.show()"
   ]
  },
  {
   "cell_type": "markdown",
   "id": "31cea85f",
   "metadata": {},
   "source": [
    "Next, we can examine the cumulative frequency of the observed deposits versus the extracted, and compare relative to the multiple samples of random locations."
   ]
  },
  {
   "cell_type": "code",
   "execution_count": null,
   "id": "8a88d1f3",
   "metadata": {},
   "outputs": [],
   "source": [
    "from toolkit.plotting import plot_cdf_at_depth_slice\n",
    "\n",
    "for key in ProblemManager.StatsManager.stat_obj_dict.keys():\n",
    "    test = ProblemManager.StatsManager.stat_obj_dict[key]\n",
    "    plot_cdf_at_depth_slice(170000, \"\", obj=test)\n",
    "    print('K-S statistic:',test.kolmogorov_smirnov[0])"
   ]
  },
  {
   "cell_type": "markdown",
   "id": "55bee6f1",
   "metadata": {},
   "source": [
    "The graph shows the cumulative distribution function (CDF) for the empirically observed mineral deposits (thick line) relative to randomised trials. The coloured region shows the $\\pm$1 standard deviation for each individual realisation of random points around the CDF estimated for the population mean (thin line). Beneath the graph we also print the KS statistic for this comparison. The significance of the KS statistic is dependent on the number of samples, and a p-value can be obtained with comparison to the corresponding KS distribution.\n",
    "\n",
    "Running on the default settings, you may find that the result lacks significance. In essence, there is likely not enough data within Australia alone (and perhaps the run-time settings too optimised for speed over performance) to reject the null hypothesis. You may like the change the underlying tomographic model or feature engineering to see if you can improve this result.\n",
    "\n",
    "Assuming that the above relation is evaluated to be significant, it can next be used to map regions with higher probability for mineralization."
   ]
  },
  {
   "cell_type": "code",
   "execution_count": null,
   "id": "5906c1db",
   "metadata": {},
   "outputs": [],
   "source": [
    "from toolkit.plotting import plot_pdf_map\n",
    "\n",
    "for key in ProblemManager.Prospectivity.dct.keys():\n",
    "    pros_map = ProblemManager.Prospectivity.dct[key]\n",
    "    pros_map.pdf_values = pros_map.pdf(pros_map.distances)\n",
    "    plot_pdf_map(obj=pros_map)"
   ]
  },
  {
   "cell_type": "markdown",
   "id": "5123e8a4",
   "metadata": {},
   "source": [
    "In the above map the CDF from the KS test has been transformed into a probability density function (PDF), which is then used to map the predicted likelihood of mineralization. It is worth noting that in this example the PDF has been smoothed by fitting a normal distribution through the empirical data. This may not be the best assumption for mineral potential mapping, but then, neither is using the empirical PDF. Future development work may be required to look at PDF fitting and/or smoothing choices. Similarly, the focus here has been on testing an isolated feature with respect to sediment-hosted mineral systems. Future work will be needed to examine multiple features and determine the optimal means to integrate these into a genuine mineral potential map."
   ]
  }
 ],
 "metadata": {
  "kernelspec": {
   "display_name": "Python [conda env:minpot_env]",
   "language": "python",
   "name": "conda-env-minpot_env-py"
  },
  "language_info": {
   "codemirror_mode": {
    "name": "ipython",
    "version": 3
   },
   "file_extension": ".py",
   "mimetype": "text/x-python",
   "name": "python",
   "nbconvert_exporter": "python",
   "pygments_lexer": "ipython3",
   "version": "3.6.13"
  }
 },
 "nbformat": 4,
 "nbformat_minor": 5
}
